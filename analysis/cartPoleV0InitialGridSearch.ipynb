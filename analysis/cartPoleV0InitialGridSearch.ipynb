{
 "cells": [
  {
   "cell_type": "markdown",
   "metadata": {},
   "source": [
    "# CartPole-v0: Initial Grid Search\n",
    "\n",
    "_By [Michael Rosenberg](mailto:rosenberg.michael.m@gmail.com)._\n",
    "\n",
    "_**Description**: Contains my analysis of the grid search I have performed on some CartPole-v0 simulations._\n",
    "\n",
    "_Last Updated: 8/27/2017 5:05 AM._"
   ]
  },
  {
   "cell_type": "code",
   "execution_count": 8,
   "metadata": {
    "collapsed": false
   },
   "outputs": [],
   "source": [
    "#imports\n",
    "import pandas as pd\n",
    "import pickle as pkl\n",
    "import matplotlib.pyplot as plt\n",
    "import seaborn as sns\n",
    "\n",
    "#helpers\n",
    "sigLev = 3\n",
    "numBins = 30\n",
    "percentLev = 100\n",
    "pd.set_option(\"display.precision\",sigLev)\n",
    "maxRows = 999\n",
    "pd.set_option(\"display.max_rows\",maxRows)\n",
    "%matplotlib inline\n",
    "sns.set_style(\"darkgrid\")"
   ]
  },
  {
   "cell_type": "code",
   "execution_count": 2,
   "metadata": {
    "collapsed": true
   },
   "outputs": [],
   "source": [
    "#load in data\n",
    "modelDict = pkl.load(open(\"../data/raw/modelDict.pkl\",\"rb\"))\n",
    "rewardDict = pkl.load(open(\"../data/raw/rewardDict.pkl\",\"rb\"))"
   ]
  },
  {
   "cell_type": "markdown",
   "metadata": {},
   "source": [
    "# Initial Model Setup\n",
    "\n",
    "I chose a model that was rather simple in design. I made it linear in $\\mathbf{s}$, the state vector, and $a$, our action. In particular, I specified\n",
    "\n",
    "$$\\mathbf{x}(\\mathbf{s},a) = (s_1a,s_1(1-a),s_2a,s_2(1-a),s_3a,s_3(1-a),s_4a,s_4(1-a)).$$\n",
    "\n",
    "(Note: I could use a cleaner specification of this; tell me if there is one. If ordering doesn't matter, then perhaps as an abuse of notation, $(\\mathbf{s}a,\\mathbf{s}(1-a))$ could work.)"
   ]
  },
  {
   "cell_type": "markdown",
   "metadata": {},
   "source": [
    "# Results"
   ]
  },
  {
   "cell_type": "code",
   "execution_count": 12,
   "metadata": {
    "collapsed": false,
    "scrolled": false
   },
   "outputs": [
    {
     "data": {
      "text/plain": [
       "<matplotlib.text.Text at 0x109cdb150>"
      ]
     },
     "execution_count": 12,
     "metadata": {},
     "output_type": "execute_result"
    },
    {
     "data": {
      "image/png": "[encoded data removed]",
      "text/plain": [
       "<matplotlib.figure.Figure at 0x109845990>"
      ]
     },
     "metadata": {},
     "output_type": "display_data"
    }
   ],
   "source": [
    "rewardFrame = pd.DataFrame(rewardDict)\n",
    "avgRewardVec = rewardFrame.mean(axis = 0)\n",
    "#then plot\n",
    "plt.hist(avgRewardVec,bins = numBins)\n",
    "plt.xlabel(\"$\\overline{R}$\")\n",
    "plt.ylabel(\"Count\")\n",
    "plt.title(\"Distribution of Average Reward\")"
   ]
  },
  {
   "cell_type": "markdown",
   "metadata": {},
   "source": [
    "_Figure 1: Distribution of Average Reward per run, $\\overline{R}$._\n",
    "\n",
    "We see that on average, we are not doing incredibly well. However, we have some runs that are sitting at relatively high average reward."
   ]
  },
  {
   "cell_type": "code",
   "execution_count": 14,
   "metadata": {
    "collapsed": false
   },
   "outputs": [
    {
     "data": {
      "text/plain": [
       "<matplotlib.text.Text at 0x109b5bbd0>"
      ]
     },
     "execution_count": 14,
     "metadata": {},
     "output_type": "execute_result"
    },
    {
     "data": {
      "image/png": "[encoded data removed]",
      "text/plain": [
       "<matplotlib.figure.Figure at 0x109ea8ad0>"
      ]
     },
     "metadata": {},
     "output_type": "display_data"
    }
   ],
   "source": [
    "maxRewardVec = rewardFrame.max(axis = 0)\n",
    "#then plot\n",
    "plt.hist(maxRewardVec,bins = numBins)\n",
    "plt.xlabel(\"$\\max(R)$\")\n",
    "plt.ylabel(\"Count\")\n",
    "plt.title(\"Distribution of Max Reward\")"
   ]
  },
  {
   "cell_type": "markdown",
   "metadata": {},
   "source": [
    "_Figure 2: Distribution of Max Reward per run, $\\max(R).$_\n",
    "\n",
    "We do see that a meaningful number of our runs hit the $200$ reward benchmark for an episode. Since these runs are important for \"solving\" `Cartpole-v0`, we will now only consider runs with high average reward and the highest maximum reward."
   ]
  },
  {
   "cell_type": "code",
   "execution_count": 21,
   "metadata": {
    "collapsed": false
   },
   "outputs": [],
   "source": [
    "highestReward = 200\n",
    "maxRewardIndices = set(maxRewardVec[maxRewardVec == highestReward].index)\n",
    "meanCutoff = 40\n",
    "highMeanRewardIndices = set(avgRewardVec[avgRewardVec > meanCutoff].index)\n",
    "consideredIndices = maxRewardIndices & highMeanRewardIndices"
   ]
  },
  {
   "cell_type": "code",
   "execution_count": null,
   "metadata": {
    "collapsed": true
   },
   "outputs": [],
   "source": []
  }
 ],
 "metadata": {
  "kernelspec": {
   "display_name": "Python 2",
   "language": "python",
   "name": "python2"
  },
  "language_info": {
   "codemirror_mode": {
    "name": "ipython",
    "version": 2
   },
   "file_extension": ".py",
   "mimetype": "text/x-python",
   "name": "python",
   "nbconvert_exporter": "python",
   "pygments_lexer": "ipython2",
   "version": "2.7.10"
  },
  "latex_envs": {
   "bibliofile": "biblio.bib",
   "cite_by": "apalike",
   "current_citInitial": 1,
   "eqLabelWithNumbers": true,
   "eqNumInitial": 0
  },
  "nav_menu": {},
  "toc": {
   "navigate_menu": true,
   "number_sections": false,
   "sideBar": true,
   "threshold": 6,
   "toc_cell": false,
   "toc_section_display": "block",
   "toc_window_display": false
  }
 },
 "nbformat": 4,
 "nbformat_minor": 2
}
